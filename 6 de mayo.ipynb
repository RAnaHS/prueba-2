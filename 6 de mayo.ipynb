{
 "cells": [
  {
   "cell_type": "code",
   "execution_count": 2,
   "id": "66dc4615",
   "metadata": {},
   "outputs": [
    {
     "ename": "SyntaxError",
     "evalue": "invalid syntax (3317297133.py, line 1)",
     "output_type": "error",
     "traceback": [
      "\u001b[1;36m  File \u001b[1;32m\"C:\\Users\\herre\\AppData\\Local\\Temp\\ipykernel_23516\\3317297133.py\"\u001b[1;36m, line \u001b[1;32m1\u001b[0m\n\u001b[1;33m    <img src=\"mollie.jpg\"/>\u001b[0m\n\u001b[1;37m    ^\u001b[0m\n\u001b[1;31mSyntaxError\u001b[0m\u001b[1;31m:\u001b[0m invalid syntax\n"
     ]
    }
   ],
   "source": [
    "<img src=\"mollie.jpg\"/>"
   ]
  },
  {
   "cell_type": "markdown",
   "id": "f5f90c69",
   "metadata": {},
   "source": [
    "![]{Mollie.jpg}"
   ]
  },
  {
   "cell_type": "code",
   "execution_count": null,
   "id": "8b0bbb92",
   "metadata": {},
   "outputs": [],
   "source": [
    "![Animaci%C3%B3n%203.gif](attachment:Animaci%C3%B3n%203.gif)"
   ]
  },
  {
   "cell_type": "code",
   "execution_count": 8,
   "id": "250147de",
   "metadata": {},
   "outputs": [],
   "source": [
    "def mol_mov():\n",
    "    ![Animaci%C3%B3n%203.gif](attachment:Animaci%C3%B3n%203.gif)\n",
    "    show"
   ]
  },
  {
   "cell_type": "code",
   "execution_count": 9,
   "id": "13a9f6ad",
   "metadata": {},
   "outputs": [
    {
     "name": "stderr",
     "output_type": "stream",
     "text": [
      "'[Animaci%C3%B3n%203.gif]' is not recognized as an internal or external command,\n",
      "operable program or batch file.\n"
     ]
    },
    {
     "ename": "NameError",
     "evalue": "name 'show' is not defined",
     "output_type": "error",
     "traceback": [
      "\u001b[1;31m---------------------------------------------------------------------------\u001b[0m",
      "\u001b[1;31mNameError\u001b[0m                                 Traceback (most recent call last)",
      "\u001b[1;32m~\\AppData\\Local\\Temp\\ipykernel_23516\\3187902922.py\u001b[0m in \u001b[0;36m<module>\u001b[1;34m\u001b[0m\n\u001b[1;32m----> 1\u001b[1;33m \u001b[0mmol_mov\u001b[0m\u001b[1;33m(\u001b[0m\u001b[1;33m)\u001b[0m\u001b[1;33m\u001b[0m\u001b[1;33m\u001b[0m\u001b[0m\n\u001b[0m",
      "\u001b[1;32m~\\AppData\\Local\\Temp\\ipykernel_23516\\1708723620.py\u001b[0m in \u001b[0;36mmol_mov\u001b[1;34m()\u001b[0m\n\u001b[0;32m      1\u001b[0m \u001b[1;32mdef\u001b[0m \u001b[0mmol_mov\u001b[0m\u001b[1;33m(\u001b[0m\u001b[1;33m)\u001b[0m\u001b[1;33m:\u001b[0m\u001b[1;33m\u001b[0m\u001b[1;33m\u001b[0m\u001b[0m\n\u001b[0;32m      2\u001b[0m     \u001b[0mget_ipython\u001b[0m\u001b[1;33m(\u001b[0m\u001b[1;33m)\u001b[0m\u001b[1;33m.\u001b[0m\u001b[0msystem\u001b[0m\u001b[1;33m(\u001b[0m\u001b[1;34m'[Animaci%C3%B3n%203.gif](attachment:Animaci%C3%B3n%203.gif)'\u001b[0m\u001b[1;33m)\u001b[0m\u001b[1;33m\u001b[0m\u001b[1;33m\u001b[0m\u001b[0m\n\u001b[1;32m----> 3\u001b[1;33m     \u001b[0mshow\u001b[0m\u001b[1;33m\u001b[0m\u001b[1;33m\u001b[0m\u001b[0m\n\u001b[0m",
      "\u001b[1;31mNameError\u001b[0m: name 'show' is not defined"
     ]
    }
   ],
   "source": [
    "mol_mov()"
   ]
  },
  {
   "cell_type": "code",
   "execution_count": 12,
   "id": "f43e5f6a",
   "metadata": {},
   "outputs": [
    {
     "data": {
      "application/javascript": [
       "element.text('Mollie')\n"
      ],
      "text/plain": [
       "<IPython.core.display.Javascript object>"
      ]
     },
     "metadata": {},
     "output_type": "display_data"
    }
   ],
   "source": [
    "%%javascript\n",
    "element.text('Mollie')"
   ]
  },
  {
   "cell_type": "code",
   "execution_count": 13,
   "id": "7f3477ce",
   "metadata": {},
   "outputs": [
    {
     "data": {
      "application/javascript": [
       "require.config({\n",
       "    paths: {\n",
       "        'p5': 'https://cdnjs.cloudflare.com/ajax/libs/p5.js/0.6.0/p5.min',\n",
       "        'lodash': 'https://cdnjs.cloudflare.com/ajax/libs/lodash.js/4.17.4/lodash.min'\n",
       "    }\n",
       "});\n"
      ],
      "text/plain": [
       "<IPython.core.display.Javascript object>"
      ]
     },
     "metadata": {},
     "output_type": "display_data"
    }
   ],
   "source": [
    "%%javascript\n",
    "require.config({\n",
    "    paths: {\n",
    "        'p5': 'https://cdnjs.cloudflare.com/ajax/libs/p5.js/0.6.0/p5.min',\n",
    "        'lodash': 'https://cdnjs.cloudflare.com/ajax/libs/lodash.js/4.17.4/lodash.min'\n",
    "    }\n",
    "});"
   ]
  },
  {
   "cell_type": "code",
   "execution_count": 14,
   "id": "66e108c5",
   "metadata": {},
   "outputs": [],
   "source": [
    "import matplotlib.pyplot as plt"
   ]
  },
  {
   "cell_type": "code",
   "execution_count": 15,
   "id": "35134008",
   "metadata": {},
   "outputs": [],
   "source": [
    "import numpy as np"
   ]
  },
  {
   "cell_type": "code",
   "execution_count": 73,
   "id": "cf31f64c",
   "metadata": {},
   "outputs": [],
   "source": [
    "x = np.linspace(0,20,500)"
   ]
  },
  {
   "cell_type": "code",
   "execution_count": 80,
   "id": "f9061b9b",
   "metadata": {},
   "outputs": [],
   "source": [
    "def f(x): return 8.314*298.15/x"
   ]
  },
  {
   "cell_type": "code",
   "execution_count": 38,
   "id": "6bf16f3d",
   "metadata": {},
   "outputs": [
    {
     "data": {
      "text/plain": [
       "247.88190999999998"
      ]
     },
     "execution_count": 38,
     "metadata": {},
     "output_type": "execute_result"
    }
   ],
   "source": [
    "f(10)"
   ]
  },
  {
   "cell_type": "code",
   "execution_count": 39,
   "id": "1d0d046b",
   "metadata": {},
   "outputs": [
    {
     "name": "stderr",
     "output_type": "stream",
     "text": [
      "C:\\Users\\herre\\AppData\\Local\\Temp\\ipykernel_23516\\414205865.py:1: RuntimeWarning: divide by zero encountered in true_divide\n",
      "  def f(x): return 8.314*298.15/x\n"
     ]
    },
    {
     "data": {
      "text/plain": [
       "[<matplotlib.lines.Line2D at 0x24186afac10>]"
      ]
     },
     "execution_count": 39,
     "metadata": {},
     "output_type": "execute_result"
    },
    {
     "data": {
      "image/png": "[encoded data removed]",
      "text/plain": [
       "<Figure size 640x480 with 1 Axes>"
      ]
     },
     "metadata": {},
     "output_type": "display_data"
    }
   ],
   "source": [
    "plt.plot(x,f(x))"
   ]
  },
  {
   "cell_type": "code",
   "execution_count": 24,
   "id": "a461caa2",
   "metadata": {},
   "outputs": [
    {
     "ename": "SyntaxError",
     "evalue": "invalid syntax (1718165864.py, line 1)",
     "output_type": "error",
     "traceback": [
      "\u001b[1;36m  File \u001b[1;32m\"C:\\Users\\herre\\AppData\\Local\\Temp\\ipykernel_23516\\1718165864.py\"\u001b[1;36m, line \u001b[1;32m1\u001b[0m\n\u001b[1;33m    integrate x from 5 to 15\u001b[0m\n\u001b[1;37m              ^\u001b[0m\n\u001b[1;31mSyntaxError\u001b[0m\u001b[1;31m:\u001b[0m invalid syntax\n"
     ]
    }
   ],
   "source": [
    "integrate x from 5 to 15"
   ]
  },
  {
   "cell_type": "code",
   "execution_count": 42,
   "id": "ba20eb02",
   "metadata": {},
   "outputs": [
    {
     "name": "stderr",
     "output_type": "stream",
     "text": [
      "C:\\Users\\herre\\AppData\\Local\\Temp\\ipykernel_23516\\414205865.py:1: RuntimeWarning: divide by zero encountered in true_divide\n",
      "  def f(x): return 8.314*298.15/x\n"
     ]
    },
    {
     "data": {
      "text/plain": [
       "<matplotlib.collections.PolyCollection at 0x24186cc0550>"
      ]
     },
     "execution_count": 42,
     "metadata": {},
     "output_type": "execute_result"
    },
    {
     "data": {
      "image/png": "[encoded data removed]",
      "text/plain": [
       "<Figure size 640x480 with 1 Axes>"
      ]
     },
     "metadata": {},
     "output_type": "display_data"
    }
   ],
   "source": [
    "plt.plot(x,f(x))\n",
    "plt.ylim(0, 1000) \n",
    "plt.fill_between(x,f(x), where =[(x>4) and (x<12) for x in x])"
   ]
  },
  {
   "cell_type": "code",
   "execution_count": 158,
   "id": "f85048a2",
   "metadata": {},
   "outputs": [],
   "source": [
    "import sympy as sp"
   ]
  },
  {
   "cell_type": "code",
   "execution_count": 113,
   "id": "b662e5ef",
   "metadata": {},
   "outputs": [],
   "source": [
    "x = sp.Symbol('x')"
   ]
  },
  {
   "cell_type": "code",
   "execution_count": 85,
   "id": "9754a24a",
   "metadata": {
    "scrolled": true
   },
   "outputs": [
    {
     "data": {
      "text/latex": [
       "$\\displaystyle 2723.26112464522$"
      ],
      "text/plain": [
       "2723.26112464522"
      ]
     },
     "execution_count": 85,
     "metadata": {},
     "output_type": "execute_result"
    }
   ],
   "source": [
    "sp.integrate(f(x),(x,4,12)).evalf()"
   ]
  },
  {
   "cell_type": "code",
   "execution_count": 68,
   "id": "798a46c4",
   "metadata": {},
   "outputs": [
    {
     "data": {
      "text/plain": [
       "2723.2611246452234"
      ]
     },
     "execution_count": 68,
     "metadata": {},
     "output_type": "execute_result"
    }
   ],
   "source": [
    "float(Out[64])"
   ]
  },
  {
   "cell_type": "code",
   "execution_count": 82,
   "id": "b54058b4",
   "metadata": {},
   "outputs": [
    {
     "name": "stderr",
     "output_type": "stream",
     "text": [
      "C:\\Users\\herre\\AppData\\Local\\Temp\\ipykernel_23516\\414205865.py:1: RuntimeWarning: divide by zero encountered in true_divide\n",
      "  def f(x): return 8.314*298.15/x\n"
     ]
    },
    {
     "ename": "ValueError",
     "evalue": "Invalid limits given: ((array([ 0.        ,  0.04008016,  0.08016032,  0.12024048,  0.16032064,\n        0.2004008 ,  0.24048096,  0.28056112,  0.32064128,  0.36072144,\n        0.4008016 ,  0.44088176,  0.48096192,  0.52104208,  0.56112224,\n        0.6012024 ,  0.64128257,  0.68136273,  0.72144289,  0.76152305,\n        0.80160321,  0.84168337,  0.88176353,  0.92184369,  0.96192385,\n        1.00200401,  1.04208417,  1.08216433,  1.12224449,  1.16232465,\n        1.20240481,  1.24248497,  1.28256513,  1.32264529,  1.36272545,\n        1.40280561,  1.44288577,  1.48296593,  1.52304609,  1.56312625,\n        1.60320641,  1.64328657,  1.68336673,  1.72344689,  1.76352705,\n        1.80360721,  1.84368737,  1.88376754,  1.9238477 ,  1.96392786,\n        2.00400802,  2.04408818,  2.08416834,  2.1242485 ,  2.16432866,\n        2.20440882,  2.24448898,  2.28456914,  2.3246493 ,  2.36472946,\n        2.40480962,  2.44488978,  2.48496994,  2.5250501 ,  2.56513026,\n        2.60521042,  2.64529058,  2.68537074,  2.7254509 ,  2.76553106,\n        2.80561122,  2.84569138,  2.88577154,  2.9258517 ,  2.96593186,\n        3.00601202,  3.04609218,  3.08617234,  3.12625251,  3.16633267,\n        3.20641283,  3.24649299,  3.28657315,  3.32665331,  3.36673347,\n        3.40681363,  3.44689379,  3.48697395,  3.52705411,  3.56713427,\n        3.60721443,  3.64729459,  3.68737475,  3.72745491,  3.76753507,\n        3.80761523,  3.84769539,  3.88777555,  3.92785571,  3.96793587,\n        4.00801603,  4.04809619,  4.08817635,  4.12825651,  4.16833667,\n        4.20841683,  4.24849699,  4.28857715,  4.32865731,  4.36873747,\n        4.40881764,  4.4488978 ,  4.48897796,  4.52905812,  4.56913828,\n        4.60921844,  4.6492986 ,  4.68937876,  4.72945892,  4.76953908,\n        4.80961924,  4.8496994 ,  4.88977956,  4.92985972,  4.96993988,\n        5.01002004,  5.0501002 ,  5.09018036,  5.13026052,  5.17034068,\n        5.21042084,  5.250501  ,  5.29058116,  5.33066132,  5.37074148,\n        5.41082164,  5.4509018 ,  5.49098196,  5.53106212,  5.57114228,\n        5.61122244,  5.65130261,  5.69138277,  5.73146293,  5.77154309,\n        5.81162325,  5.85170341,  5.89178357,  5.93186373,  5.97194389,\n        6.01202405,  6.05210421,  6.09218437,  6.13226453,  6.17234469,\n        6.21242485,  6.25250501,  6.29258517,  6.33266533,  6.37274549,\n        6.41282565,  6.45290581,  6.49298597,  6.53306613,  6.57314629,\n        6.61322645,  6.65330661,  6.69338677,  6.73346693,  6.77354709,\n        6.81362725,  6.85370741,  6.89378758,  6.93386774,  6.9739479 ,\n        7.01402806,  7.05410822,  7.09418838,  7.13426854,  7.1743487 ,\n        7.21442886,  7.25450902,  7.29458918,  7.33466934,  7.3747495 ,\n        7.41482966,  7.45490982,  7.49498998,  7.53507014,  7.5751503 ,\n        7.61523046,  7.65531062,  7.69539078,  7.73547094,  7.7755511 ,\n        7.81563126,  7.85571142,  7.89579158,  7.93587174,  7.9759519 ,\n        8.01603206,  8.05611222,  8.09619238,  8.13627255,  8.17635271,\n        8.21643287,  8.25651303,  8.29659319,  8.33667335,  8.37675351,\n        8.41683367,  8.45691383,  8.49699399,  8.53707415,  8.57715431,\n        8.61723447,  8.65731463,  8.69739479,  8.73747495,  8.77755511,\n        8.81763527,  8.85771543,  8.89779559,  8.93787575,  8.97795591,\n        9.01803607,  9.05811623,  9.09819639,  9.13827655,  9.17835671,\n        9.21843687,  9.25851703,  9.29859719,  9.33867735,  9.37875752,\n        9.41883768,  9.45891784,  9.498998  ,  9.53907816,  9.57915832,\n        9.61923848,  9.65931864,  9.6993988 ,  9.73947896,  9.77955912,\n        9.81963928,  9.85971944,  9.8997996 ,  9.93987976,  9.97995992,\n       10.02004008, 10.06012024, 10.1002004 , 10.14028056, 10.18036072,\n       10.22044088, 10.26052104, 10.3006012 , 10.34068136, 10.38076152,\n       10.42084168, 10.46092184, 10.501002  , 10.54108216, 10.58116232,\n       10.62124248, 10.66132265, 10.70140281, 10.74148297, 10.78156313,\n       10.82164329, 10.86172345, 10.90180361, 10.94188377, 10.98196393,\n       11.02204409, 11.06212425, 11.10220441, 11.14228457, 11.18236473,\n       11.22244489, 11.26252505, 11.30260521, 11.34268537, 11.38276553,\n       11.42284569, 11.46292585, 11.50300601, 11.54308617, 11.58316633,\n       11.62324649, 11.66332665, 11.70340681, 11.74348697, 11.78356713,\n       11.82364729, 11.86372745, 11.90380762, 11.94388778, 11.98396794,\n       12.0240481 , 12.06412826, 12.10420842, 12.14428858, 12.18436874,\n       12.2244489 , 12.26452906, 12.30460922, 12.34468938, 12.38476954,\n       12.4248497 , 12.46492986, 12.50501002, 12.54509018, 12.58517034,\n       12.6252505 , 12.66533066, 12.70541082, 12.74549098, 12.78557114,\n       12.8256513 , 12.86573146, 12.90581162, 12.94589178, 12.98597194,\n       13.0260521 , 13.06613226, 13.10621242, 13.14629259, 13.18637275,\n       13.22645291, 13.26653307, 13.30661323, 13.34669339, 13.38677355,\n       13.42685371, 13.46693387, 13.50701403, 13.54709419, 13.58717435,\n       13.62725451, 13.66733467, 13.70741483, 13.74749499, 13.78757515,\n       13.82765531, 13.86773547, 13.90781563, 13.94789579, 13.98797595,\n       14.02805611, 14.06813627, 14.10821643, 14.14829659, 14.18837675,\n       14.22845691, 14.26853707, 14.30861723, 14.34869739, 14.38877756,\n       14.42885772, 14.46893788, 14.50901804, 14.5490982 , 14.58917836,\n       14.62925852, 14.66933868, 14.70941884, 14.749499  , 14.78957916,\n       14.82965932, 14.86973948, 14.90981964, 14.9498998 , 14.98997996,\n       15.03006012, 15.07014028, 15.11022044, 15.1503006 , 15.19038076,\n       15.23046092, 15.27054108, 15.31062124, 15.3507014 , 15.39078156,\n       15.43086172, 15.47094188, 15.51102204, 15.5511022 , 15.59118236,\n       15.63126253, 15.67134269, 15.71142285, 15.75150301, 15.79158317,\n       15.83166333, 15.87174349, 15.91182365, 15.95190381, 15.99198397,\n       16.03206413, 16.07214429, 16.11222445, 16.15230461, 16.19238477,\n       16.23246493, 16.27254509, 16.31262525, 16.35270541, 16.39278557,\n       16.43286573, 16.47294589, 16.51302605, 16.55310621, 16.59318637,\n       16.63326653, 16.67334669, 16.71342685, 16.75350701, 16.79358717,\n       16.83366733, 16.87374749, 16.91382766, 16.95390782, 16.99398798,\n       17.03406814, 17.0741483 , 17.11422846, 17.15430862, 17.19438878,\n       17.23446894, 17.2745491 , 17.31462926, 17.35470942, 17.39478958,\n       17.43486974, 17.4749499 , 17.51503006, 17.55511022, 17.59519038,\n       17.63527054, 17.6753507 , 17.71543086, 17.75551102, 17.79559118,\n       17.83567134, 17.8757515 , 17.91583166, 17.95591182, 17.99599198,\n       18.03607214, 18.0761523 , 18.11623246, 18.15631263, 18.19639279,\n       18.23647295, 18.27655311, 18.31663327, 18.35671343, 18.39679359,\n       18.43687375, 18.47695391, 18.51703407, 18.55711423, 18.59719439,\n       18.63727455, 18.67735471, 18.71743487, 18.75751503, 18.79759519,\n       18.83767535, 18.87775551, 18.91783567, 18.95791583, 18.99799599,\n       19.03807615, 19.07815631, 19.11823647, 19.15831663, 19.19839679,\n       19.23847695, 19.27855711, 19.31863727, 19.35871743, 19.3987976 ,\n       19.43887776, 19.47895792, 19.51903808, 19.55911824, 19.5991984 ,\n       19.63927856, 19.67935872, 19.71943888, 19.75951904, 19.7995992 ,\n       19.83967936, 19.87975952, 19.91983968, 19.95991984, 20.        ]), 4, 12),)",
     "output_type": "error",
     "traceback": [
      "\u001b[1;31m---------------------------------------------------------------------------\u001b[0m",
      "\u001b[1;31mValueError\u001b[0m                                Traceback (most recent call last)",
      "\u001b[1;32m~\\AppData\\Local\\Temp\\ipykernel_23516\\1828232483.py\u001b[0m in \u001b[0;36m<module>\u001b[1;34m\u001b[0m\n\u001b[1;32m----> 1\u001b[1;33m \u001b[0msp\u001b[0m\u001b[1;33m.\u001b[0m\u001b[0mintegrate\u001b[0m\u001b[1;33m(\u001b[0m\u001b[0mf\u001b[0m\u001b[1;33m(\u001b[0m\u001b[0mx\u001b[0m\u001b[1;33m)\u001b[0m\u001b[1;33m,\u001b[0m\u001b[1;33m(\u001b[0m\u001b[0mx\u001b[0m\u001b[1;33m,\u001b[0m\u001b[1;36m4\u001b[0m\u001b[1;33m,\u001b[0m\u001b[1;36m12\u001b[0m\u001b[1;33m)\u001b[0m\u001b[1;33m)\u001b[0m\u001b[1;33m\u001b[0m\u001b[1;33m\u001b[0m\u001b[0m\n\u001b[0m",
      "\u001b[1;32m~\\anaconda3\\lib\\site-packages\\sympy\\integrals\\integrals.py\u001b[0m in \u001b[0;36mintegrate\u001b[1;34m(meijerg, conds, risch, heurisch, manual, *args, **kwargs)\u001b[0m\n\u001b[0;32m   1561\u001b[0m         \u001b[1;34m'manual'\u001b[0m\u001b[1;33m:\u001b[0m \u001b[0mmanual\u001b[0m\u001b[1;33m\u001b[0m\u001b[1;33m\u001b[0m\u001b[0m\n\u001b[0;32m   1562\u001b[0m         }\n\u001b[1;32m-> 1563\u001b[1;33m     \u001b[0mintegral\u001b[0m \u001b[1;33m=\u001b[0m \u001b[0mIntegral\u001b[0m\u001b[1;33m(\u001b[0m\u001b[1;33m*\u001b[0m\u001b[0margs\u001b[0m\u001b[1;33m,\u001b[0m \u001b[1;33m**\u001b[0m\u001b[0mkwargs\u001b[0m\u001b[1;33m)\u001b[0m\u001b[1;33m\u001b[0m\u001b[1;33m\u001b[0m\u001b[0m\n\u001b[0m\u001b[0;32m   1564\u001b[0m \u001b[1;33m\u001b[0m\u001b[0m\n\u001b[0;32m   1565\u001b[0m     \u001b[1;32mif\u001b[0m \u001b[0misinstance\u001b[0m\u001b[1;33m(\u001b[0m\u001b[0mintegral\u001b[0m\u001b[1;33m,\u001b[0m \u001b[0mIntegral\u001b[0m\u001b[1;33m)\u001b[0m\u001b[1;33m:\u001b[0m\u001b[1;33m\u001b[0m\u001b[1;33m\u001b[0m\u001b[0m\n",
      "\u001b[1;32m~\\anaconda3\\lib\\site-packages\\sympy\\integrals\\integrals.py\u001b[0m in \u001b[0;36m__new__\u001b[1;34m(cls, function, *symbols, **assumptions)\u001b[0m\n\u001b[0;32m     97\u001b[0m                 active_deprecations_target=\"deprecated-integrate-poly\")\n\u001b[0;32m     98\u001b[0m \u001b[1;33m\u001b[0m\u001b[0m\n\u001b[1;32m---> 99\u001b[1;33m         \u001b[0mobj\u001b[0m \u001b[1;33m=\u001b[0m \u001b[0mAddWithLimits\u001b[0m\u001b[1;33m.\u001b[0m\u001b[0m__new__\u001b[0m\u001b[1;33m(\u001b[0m\u001b[0mcls\u001b[0m\u001b[1;33m,\u001b[0m \u001b[0mfunction\u001b[0m\u001b[1;33m,\u001b[0m \u001b[1;33m*\u001b[0m\u001b[0msymbols\u001b[0m\u001b[1;33m,\u001b[0m \u001b[1;33m**\u001b[0m\u001b[0massumptions\u001b[0m\u001b[1;33m)\u001b[0m\u001b[1;33m\u001b[0m\u001b[1;33m\u001b[0m\u001b[0m\n\u001b[0m\u001b[0;32m    100\u001b[0m         \u001b[1;32mreturn\u001b[0m \u001b[0mobj\u001b[0m\u001b[1;33m\u001b[0m\u001b[1;33m\u001b[0m\u001b[0m\n\u001b[0;32m    101\u001b[0m \u001b[1;33m\u001b[0m\u001b[0m\n",
      "\u001b[1;32m~\\anaconda3\\lib\\site-packages\\sympy\\concrete\\expr_with_limits.py\u001b[0m in \u001b[0;36m__new__\u001b[1;34m(cls, function, *symbols, **assumptions)\u001b[0m\n\u001b[0;32m    543\u001b[0m     \u001b[1;32mdef\u001b[0m \u001b[0m__new__\u001b[0m\u001b[1;33m(\u001b[0m\u001b[0mcls\u001b[0m\u001b[1;33m,\u001b[0m \u001b[0mfunction\u001b[0m\u001b[1;33m,\u001b[0m \u001b[1;33m*\u001b[0m\u001b[0msymbols\u001b[0m\u001b[1;33m,\u001b[0m \u001b[1;33m**\u001b[0m\u001b[0massumptions\u001b[0m\u001b[1;33m)\u001b[0m\u001b[1;33m:\u001b[0m\u001b[1;33m\u001b[0m\u001b[1;33m\u001b[0m\u001b[0m\n\u001b[0;32m    544\u001b[0m         \u001b[1;32mfrom\u001b[0m \u001b[0msympy\u001b[0m\u001b[1;33m.\u001b[0m\u001b[0mconcrete\u001b[0m\u001b[1;33m.\u001b[0m\u001b[0msummations\u001b[0m \u001b[1;32mimport\u001b[0m \u001b[0mSum\u001b[0m\u001b[1;33m\u001b[0m\u001b[1;33m\u001b[0m\u001b[0m\n\u001b[1;32m--> 545\u001b[1;33m         pre = _common_new(cls, function, *symbols,\n\u001b[0m\u001b[0;32m    546\u001b[0m             discrete=issubclass(cls, Sum), **assumptions)\n\u001b[0;32m    547\u001b[0m         \u001b[1;32mif\u001b[0m \u001b[0misinstance\u001b[0m\u001b[1;33m(\u001b[0m\u001b[0mpre\u001b[0m\u001b[1;33m,\u001b[0m \u001b[0mtuple\u001b[0m\u001b[1;33m)\u001b[0m\u001b[1;33m:\u001b[0m\u001b[1;33m\u001b[0m\u001b[1;33m\u001b[0m\u001b[0m\n",
      "\u001b[1;32m~\\anaconda3\\lib\\site-packages\\sympy\\concrete\\expr_with_limits.py\u001b[0m in \u001b[0;36m_common_new\u001b[1;34m(cls, function, discrete, *symbols, **assumptions)\u001b[0m\n\u001b[0;32m     55\u001b[0m \u001b[1;33m\u001b[0m\u001b[0m\n\u001b[0;32m     56\u001b[0m     \u001b[1;32mif\u001b[0m \u001b[0msymbols\u001b[0m\u001b[1;33m:\u001b[0m\u001b[1;33m\u001b[0m\u001b[1;33m\u001b[0m\u001b[0m\n\u001b[1;32m---> 57\u001b[1;33m         \u001b[0mlimits\u001b[0m\u001b[1;33m,\u001b[0m \u001b[0morientation\u001b[0m \u001b[1;33m=\u001b[0m \u001b[0m_process_limits\u001b[0m\u001b[1;33m(\u001b[0m\u001b[1;33m*\u001b[0m\u001b[0msymbols\u001b[0m\u001b[1;33m,\u001b[0m \u001b[0mdiscrete\u001b[0m\u001b[1;33m=\u001b[0m\u001b[0mdiscrete\u001b[0m\u001b[1;33m)\u001b[0m\u001b[1;33m\u001b[0m\u001b[1;33m\u001b[0m\u001b[0m\n\u001b[0m\u001b[0;32m     58\u001b[0m         \u001b[1;32mfor\u001b[0m \u001b[0mi\u001b[0m\u001b[1;33m,\u001b[0m \u001b[0mli\u001b[0m \u001b[1;32min\u001b[0m \u001b[0menumerate\u001b[0m\u001b[1;33m(\u001b[0m\u001b[0mlimits\u001b[0m\u001b[1;33m)\u001b[0m\u001b[1;33m:\u001b[0m\u001b[1;33m\u001b[0m\u001b[1;33m\u001b[0m\u001b[0m\n\u001b[0;32m     59\u001b[0m             \u001b[1;32mif\u001b[0m \u001b[0mlen\u001b[0m\u001b[1;33m(\u001b[0m\u001b[0mli\u001b[0m\u001b[1;33m)\u001b[0m \u001b[1;33m==\u001b[0m \u001b[1;36m4\u001b[0m\u001b[1;33m:\u001b[0m\u001b[1;33m\u001b[0m\u001b[1;33m\u001b[0m\u001b[0m\n",
      "\u001b[1;32m~\\anaconda3\\lib\\site-packages\\sympy\\concrete\\expr_with_limits.py\u001b[0m in \u001b[0;36m_process_limits\u001b[1;34m(discrete, *symbols)\u001b[0m\n\u001b[0;32m    192\u001b[0m                         \u001b[1;32mcontinue\u001b[0m\u001b[1;33m\u001b[0m\u001b[1;33m\u001b[0m\u001b[0m\n\u001b[0;32m    193\u001b[0m \u001b[1;33m\u001b[0m\u001b[0m\n\u001b[1;32m--> 194\u001b[1;33m         \u001b[1;32mraise\u001b[0m \u001b[0mValueError\u001b[0m\u001b[1;33m(\u001b[0m\u001b[1;34m'Invalid limits given: %s'\u001b[0m \u001b[1;33m%\u001b[0m \u001b[0mstr\u001b[0m\u001b[1;33m(\u001b[0m\u001b[0msymbols\u001b[0m\u001b[1;33m)\u001b[0m\u001b[1;33m)\u001b[0m\u001b[1;33m\u001b[0m\u001b[1;33m\u001b[0m\u001b[0m\n\u001b[0m\u001b[0;32m    195\u001b[0m \u001b[1;33m\u001b[0m\u001b[0m\n\u001b[0;32m    196\u001b[0m     \u001b[1;32mreturn\u001b[0m \u001b[0mlimits\u001b[0m\u001b[1;33m,\u001b[0m \u001b[0morientation\u001b[0m\u001b[1;33m\u001b[0m\u001b[1;33m\u001b[0m\u001b[0m\n",
      "\u001b[1;31mValueError\u001b[0m: Invalid limits given: ((array([ 0.        ,  0.04008016,  0.08016032,  0.12024048,  0.16032064,\n        0.2004008 ,  0.24048096,  0.28056112,  0.32064128,  0.36072144,\n        0.4008016 ,  0.44088176,  0.48096192,  0.52104208,  0.56112224,\n        0.6012024 ,  0.64128257,  0.68136273,  0.72144289,  0.76152305,\n        0.80160321,  0.84168337,  0.88176353,  0.92184369,  0.96192385,\n        1.00200401,  1.04208417,  1.08216433,  1.12224449,  1.16232465,\n        1.20240481,  1.24248497,  1.28256513,  1.32264529,  1.36272545,\n        1.40280561,  1.44288577,  1.48296593,  1.52304609,  1.56312625,\n        1.60320641,  1.64328657,  1.68336673,  1.72344689,  1.76352705,\n        1.80360721,  1.84368737,  1.88376754,  1.9238477 ,  1.96392786,\n        2.00400802,  2.04408818,  2.08416834,  2.1242485 ,  2.16432866,\n        2.20440882,  2.24448898,  2.28456914,  2.3246493 ,  2.36472946,\n        2.40480962,  2.44488978,  2.48496994,  2.5250501 ,  2.56513026,\n        2.60521042,  2.64529058,  2.68537074,  2.7254509 ,  2.76553106,\n        2.80561122,  2.84569138,  2.88577154,  2.9258517 ,  2.96593186,\n        3.00601202,  3.04609218,  3.08617234,  3.12625251,  3.16633267,\n        3.20641283,  3.24649299,  3.28657315,  3.32665331,  3.36673347,\n        3.40681363,  3.44689379,  3.48697395,  3.52705411,  3.56713427,\n        3.60721443,  3.64729459,  3.68737475,  3.72745491,  3.76753507,\n        3.80761523,  3.84769539,  3.88777555,  3.92785571,  3.96793587,\n        4.00801603,  4.04809619,  4.08817635,  4.12825651,  4.16833667,\n        4.20841683,  4.24849699,  4.28857715,  4.32865731,  4.36873747,\n        4.40881764,  4.4488978 ,  4.48897796,  4.52905812,  4.56913828,\n        4.60921844,  4.6492986 ,  4.68937876,  4.72945892,  4.76953908,\n        4.80961924,  4.8496994 ,  4.88977956,  4.92985972,  4.96993988,\n        5.01002004,  5.0501002 ,  5.09018036,  5.13026052,  5.17034068,\n        5.21042084,  5.250501  ,  5.29058116,  5.33066132,  5.37074148,\n        5.41082164,  5.4509018 ,  5.49098196,  5.53106212,  5.57114228,\n        5.61122244,  5.65130261,  5.69138277,  5.73146293,  5.77154309,\n        5.81162325,  5.85170341,  5.89178357,  5.93186373,  5.97194389,\n        6.01202405,  6.05210421,  6.09218437,  6.13226453,  6.17234469,\n        6.21242485,  6.25250501,  6.29258517,  6.33266533,  6.37274549,\n        6.41282565,  6.45290581,  6.49298597,  6.53306613,  6.57314629,\n        6.61322645,  6.65330661,  6.69338677,  6.73346693,  6.77354709,\n        6.81362725,  6.85370741,  6.89378758,  6.93386774,  6.9739479 ,\n        7.01402806,  7.05410822,  7.09418838,  7.13426854,  7.1743487 ,\n        7.21442886,  7.25450902,  7.29458918,  7.33466934,  7.3747495 ,\n        7.41482966,  7.45490982,  7.49498998,  7.53507014,  7.5751503 ,\n        7.61523046,  7.65531062,  7.69539078,  7.73547094,  7.7755511 ,\n        7.81563126,  7.85571142,  7.89579158,  7.93587174,  7.9759519 ,\n        8.01603206,  8.05611222,  8.09619238,  8.13627255,  8.17635271,\n        8.21643287,  8.25651303,  8.29659319,  8.33667335,  8.37675351,\n        8.41683367,  8.45691383,  8.49699399,  8.53707415,  8.57715431,\n        8.61723447,  8.65731463,  8.69739479,  8.73747495,  8.77755511,\n        8.81763527,  8.85771543,  8.89779559,  8.93787575,  8.97795591,\n        9.01803607,  9.05811623,  9.09819639,  9.13827655,  9.17835671,\n        9.21843687,  9.25851703,  9.29859719,  9.33867735,  9.37875752,\n        9.41883768,  9.45891784,  9.498998  ,  9.53907816,  9.57915832,\n        9.61923848,  9.65931864,  9.6993988 ,  9.73947896,  9.77955912,\n        9.81963928,  9.85971944,  9.8997996 ,  9.93987976,  9.97995992,\n       10.02004008, 10.06012024, 10.1002004 , 10.14028056, 10.18036072,\n       10.22044088, 10.26052104, 10.3006012 , 10.34068136, 10.38076152,\n       10.42084168, 10.46092184, 10.501002  , 10.54108216, 10.58116232,\n       10.62124248, 10.66132265, 10.70140281, 10.74148297, 10.78156313,\n       10.82164329, 10.86172345, 10.90180361, 10.94188377, 10.98196393,\n       11.02204409, 11.06212425, 11.10220441, 11.14228457, 11.18236473,\n       11.22244489, 11.26252505, 11.30260521, 11.34268537, 11.38276553,\n       11.42284569, 11.46292585, 11.50300601, 11.54308617, 11.58316633,\n       11.62324649, 11.66332665, 11.70340681, 11.74348697, 11.78356713,\n       11.82364729, 11.86372745, 11.90380762, 11.94388778, 11.98396794,\n       12.0240481 , 12.06412826, 12.10420842, 12.14428858, 12.18436874,\n       12.2244489 , 12.26452906, 12.30460922, 12.34468938, 12.38476954,\n       12.4248497 , 12.46492986, 12.50501002, 12.54509018, 12.58517034,\n       12.6252505 , 12.66533066, 12.70541082, 12.74549098, 12.78557114,\n       12.8256513 , 12.86573146, 12.90581162, 12.94589178, 12.98597194,\n       13.0260521 , 13.06613226, 13.10621242, 13.14629259, 13.18637275,\n       13.22645291, 13.26653307, 13.30661323, 13.34669339, 13.38677355,\n       13.42685371, 13.46693387, 13.50701403, 13.54709419, 13.58717435,\n       13.62725451, 13.66733467, 13.70741483, 13.74749499, 13.78757515,\n       13.82765531, 13.86773547, 13.90781563, 13.94789579, 13.98797595,\n       14.02805611, 14.06813627, 14.10821643, 14.14829659, 14.18837675,\n       14.22845691, 14.26853707, 14.30861723, 14.34869739, 14.38877756,\n       14.42885772, 14.46893788, 14.50901804, 14.5490982 , 14.58917836,\n       14.62925852, 14.66933868, 14.70941884, 14.749499  , 14.78957916,\n       14.82965932, 14.86973948, 14.90981964, 14.9498998 , 14.98997996,\n       15.03006012, 15.07014028, 15.11022044, 15.1503006 , 15.19038076,\n       15.23046092, 15.27054108, 15.31062124, 15.3507014 , 15.39078156,\n       15.43086172, 15.47094188, 15.51102204, 15.5511022 , 15.59118236,\n       15.63126253, 15.67134269, 15.71142285, 15.75150301, 15.79158317,\n       15.83166333, 15.87174349, 15.91182365, 15.95190381, 15.99198397,\n       16.03206413, 16.07214429, 16.11222445, 16.15230461, 16.19238477,\n       16.23246493, 16.27254509, 16.31262525, 16.35270541, 16.39278557,\n       16.43286573, 16.47294589, 16.51302605, 16.55310621, 16.59318637,\n       16.63326653, 16.67334669, 16.71342685, 16.75350701, 16.79358717,\n       16.83366733, 16.87374749, 16.91382766, 16.95390782, 16.99398798,\n       17.03406814, 17.0741483 , 17.11422846, 17.15430862, 17.19438878,\n       17.23446894, 17.2745491 , 17.31462926, 17.35470942, 17.39478958,\n       17.43486974, 17.4749499 , 17.51503006, 17.55511022, 17.59519038,\n       17.63527054, 17.6753507 , 17.71543086, 17.75551102, 17.79559118,\n       17.83567134, 17.8757515 , 17.91583166, 17.95591182, 17.99599198,\n       18.03607214, 18.0761523 , 18.11623246, 18.15631263, 18.19639279,\n       18.23647295, 18.27655311, 18.31663327, 18.35671343, 18.39679359,\n       18.43687375, 18.47695391, 18.51703407, 18.55711423, 18.59719439,\n       18.63727455, 18.67735471, 18.71743487, 18.75751503, 18.79759519,\n       18.83767535, 18.87775551, 18.91783567, 18.95791583, 18.99799599,\n       19.03807615, 19.07815631, 19.11823647, 19.15831663, 19.19839679,\n       19.23847695, 19.27855711, 19.31863727, 19.35871743, 19.3987976 ,\n       19.43887776, 19.47895792, 19.51903808, 19.55911824, 19.5991984 ,\n       19.63927856, 19.67935872, 19.71943888, 19.75951904, 19.7995992 ,\n       19.83967936, 19.87975952, 19.91983968, 19.95991984, 20.        ]), 4, 12),)"
     ]
    }
   ],
   "source": [
    "sp.integrate(f(x),(x,4,12))"
   ]
  },
  {
   "cell_type": "code",
   "execution_count": 76,
   "id": "3c8e76f9",
   "metadata": {},
   "outputs": [
    {
     "name": "stderr",
     "output_type": "stream",
     "text": [
      "C:\\Users\\herre\\AppData\\Local\\Temp\\ipykernel_23516\\414205865.py:1: RuntimeWarning: divide by zero encountered in true_divide\n",
      "  def f(x): return 8.314*298.15/x\n"
     ]
    },
    {
     "data": {
      "text/plain": [
       "<matplotlib.collections.PolyCollection at 0x241895d26a0>"
      ]
     },
     "execution_count": 76,
     "metadata": {},
     "output_type": "execute_result"
    },
    {
     "data": {
      "image/png": "[encoded data removed]",
      "text/plain": [
       "<Figure size 640x480 with 1 Axes>"
      ]
     },
     "metadata": {},
     "output_type": "display_data"
    }
   ],
   "source": [
    "plt.plot(x,f(x))\n",
    "plt.ylim(0, 1000) \n",
    "plt.fill_between(x,f(x), where =[(x>4) and (x<12) for x in x])"
   ]
  },
  {
   "cell_type": "code",
   "execution_count": 87,
   "id": "d8792cc8",
   "metadata": {},
   "outputs": [
    {
     "data": {
      "text/latex": [
       "$\\displaystyle -2723.26112464522$"
      ],
      "text/plain": [
       "-2723.26112464522"
      ]
     },
     "execution_count": 87,
     "metadata": {},
     "output_type": "execute_result"
    }
   ],
   "source": [
    "sp.integrate(f(x),(x,12,4)).evalf()"
   ]
  },
  {
   "cell_type": "markdown",
   "id": "db52e27a",
   "metadata": {},
   "source": [
    "dU = dQ + dW\n",
    "Isotermico\n",
    "dQ = -dW"
   ]
  },
  {
   "cell_type": "code",
   "execution_count": 102,
   "id": "f95f5e4b",
   "metadata": {},
   "outputs": [],
   "source": [
    "energia = {\"trabajo\":Out[87],\"calor\":-Out [87]}"
   ]
  },
  {
   "cell_type": "code",
   "execution_count": 103,
   "id": "060ac52b",
   "metadata": {},
   "outputs": [],
   "source": [
    "magnitud = list(energia.values())\n",
    "tipo = list(energia.keys())"
   ]
  },
  {
   "cell_type": "code",
   "execution_count": 104,
   "id": "dd39186b",
   "metadata": {
    "scrolled": false
   },
   "outputs": [
    {
     "data": {
      "text/plain": [
       "<BarContainer object of 2 artists>"
      ]
     },
     "execution_count": 104,
     "metadata": {},
     "output_type": "execute_result"
    },
    {
     "data": {
      "image/png": "[encoded data removed]",
      "text/plain": [
       "<Figure size 640x480 with 1 Axes>"
      ]
     },
     "metadata": {},
     "output_type": "display_data"
    }
   ],
   "source": [
    "plt.bar(tipo, magnitud, width=0.8)"
   ]
  },
  {
   "cell_type": "code",
   "execution_count": 106,
   "id": "09447b14",
   "metadata": {},
   "outputs": [],
   "source": [
    "import ipywidgets as widgets"
   ]
  },
  {
   "cell_type": "code",
   "execution_count": 114,
   "id": "2583c99b",
   "metadata": {},
   "outputs": [],
   "source": [
    "x = np.linspace(0,20,500)"
   ]
  },
  {
   "cell_type": "code",
   "execution_count": 119,
   "id": "2c1de06d",
   "metadata": {},
   "outputs": [],
   "source": [
    "x = sp.Symbol('x')"
   ]
  },
  {
   "cell_type": "code",
   "execution_count": 135,
   "id": "0e3c8277",
   "metadata": {},
   "outputs": [],
   "source": [
    "def f(x): return 8.314*298.15/x\n",
    "def g(x): \n",
    "    sp.integrate(f(x),(x,4,12)).evalf()\n",
    "    print('trabajo =',sp.integrate(f(x),(x,4,12)).evalf())"
   ]
  },
  {
   "cell_type": "code",
   "execution_count": 136,
   "id": "bb85a5a7",
   "metadata": {},
   "outputs": [
    {
     "name": "stdout",
     "output_type": "stream",
     "text": [
      "trabajo = 2723.26112464522\n"
     ]
    }
   ],
   "source": [
    "print('trabajo =',sp.integrate(f(x),(x,4,12)).evalf())\n"
   ]
  },
  {
   "cell_type": "code",
   "execution_count": 141,
   "id": "07211579",
   "metadata": {},
   "outputs": [],
   "source": [
    "def f(x): return 8.314*298.15/x\n",
    "def g(x): \n",
    "    trabajo = sp.integrate(f(x),(x,4,12)).evalf()\n",
    "    return trabajo\n"
   ]
  },
  {
   "cell_type": "code",
   "execution_count": 142,
   "id": "744f6c37",
   "metadata": {},
   "outputs": [
    {
     "name": "stdout",
     "output_type": "stream",
     "text": [
      "trabajo = 2723.26112464522\n"
     ]
    }
   ],
   "source": [
    "print('trabajo =',g(x))\n"
   ]
  },
  {
   "cell_type": "code",
   "execution_count": 143,
   "id": "abe59f3f",
   "metadata": {},
   "outputs": [
    {
     "name": "stdout",
     "output_type": "stream",
     "text": [
      "trabajo = 2723.26112464522\n"
     ]
    }
   ],
   "source": [
    "def f(x): return 8.314*298.15/x\n",
    "def g(x): \n",
    "    trabajo = sp.integrate(f(x),(x,4,12)).evalf()\n",
    "    return trabajo\n",
    "print('trabajo =',g(x))"
   ]
  },
  {
   "cell_type": "code",
   "execution_count": 159,
   "id": "abf00b9e",
   "metadata": {},
   "outputs": [
    {
     "ename": "NameError",
     "evalue": "name 'work_t' is not defined",
     "output_type": "error",
     "traceback": [
      "\u001b[1;31m---------------------------------------------------------------------------\u001b[0m",
      "\u001b[1;31mNameError\u001b[0m                                 Traceback (most recent call last)",
      "\u001b[1;32m~\\AppData\\Local\\Temp\\ipykernel_23516\\4232832536.py\u001b[0m in \u001b[0;36m<module>\u001b[1;34m\u001b[0m\n\u001b[0;32m      3\u001b[0m     \u001b[0mwork_t\u001b[0m \u001b[1;33m=\u001b[0m \u001b[0msp\u001b[0m\u001b[1;33m.\u001b[0m\u001b[0mintegrate\u001b[0m\u001b[1;33m(\u001b[0m\u001b[0mf\u001b[0m\u001b[1;33m(\u001b[0m\u001b[0mx\u001b[0m\u001b[1;33m)\u001b[0m\u001b[1;33m)\u001b[0m\u001b[1;33m\u001b[0m\u001b[1;33m\u001b[0m\u001b[0m\n\u001b[0;32m      4\u001b[0m     \u001b[1;32mreturn\u001b[0m \u001b[0mwork_t\u001b[0m\u001b[1;33m\u001b[0m\u001b[1;33m\u001b[0m\u001b[0m\n\u001b[1;32m----> 5\u001b[1;33m \u001b[0mprint\u001b[0m\u001b[1;33m(\u001b[0m\u001b[1;34m'trabajo ='\u001b[0m\u001b[1;33m,\u001b[0m\u001b[0mwork_t\u001b[0m\u001b[1;33m)\u001b[0m\u001b[1;33m\u001b[0m\u001b[1;33m\u001b[0m\u001b[0m\n\u001b[0m",
      "\u001b[1;31mNameError\u001b[0m: name 'work_t' is not defined"
     ]
    }
   ],
   "source": [
    "def f(x): return 8.314*298.15/x\n",
    "def integral (y=1): \n",
    "    work_t = sp.integrate(f(x))\n",
    "    return work_t\n",
    "print('trabajo =',work_t)"
   ]
  },
  {
   "cell_type": "code",
   "execution_count": null,
   "id": "c57682fa",
   "metadata": {},
   "outputs": [],
   "source": []
  },
  {
   "cell_type": "code",
   "execution_count": null,
   "id": "ad8e3233",
   "metadata": {},
   "outputs": [],
   "source": []
  }
 ],
 "metadata": {
  "kernelspec": {
   "display_name": "Python 3 (ipykernel)",
   "language": "python",
   "name": "python3"
  },
  "language_info": {
   "codemirror_mode": {
    "name": "ipython",
    "version": 3
   },
   "file_extension": ".py",
   "mimetype": "text/x-python",
   "name": "python",
   "nbconvert_exporter": "python",
   "pygments_lexer": "ipython3",
   "version": "3.9.13"
  }
 },
 "nbformat": 4,
 "nbformat_minor": 5
}
